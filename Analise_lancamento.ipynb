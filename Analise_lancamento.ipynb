{
  "nbformat": 4,
  "nbformat_minor": 0,
  "metadata": {
    "colab": {
      "provenance": [],
      "authorship_tag": "ABX9TyOiv3MNz8MV2LJVq2keHQVh",
      "include_colab_link": true
    },
    "kernelspec": {
      "name": "python3",
      "display_name": "Python 3"
    },
    "language_info": {
      "name": "python"
    }
  },
  "cells": [
    {
      "cell_type": "markdown",
      "metadata": {
        "id": "view-in-github",
        "colab_type": "text"
      },
      "source": [
        "<a href=\"https://colab.research.google.com/github/RafaaelMendonca/desafio-dio-power-bi/blob/main/Analise_lancamento.ipynb\" target=\"_parent\"><img src=\"https://colab.research.google.com/assets/colab-badge.svg\" alt=\"Open In Colab\"/></a>"
      ]
    },
    {
      "cell_type": "code",
      "execution_count": 2,
      "metadata": {
        "colab": {
          "base_uri": "https://localhost:8080/"
        },
        "id": "uwAkNX2sSUMp",
        "outputId": "34ef8ed1-4d0b-4ac6-9817-9b398a484219"
      },
      "outputs": [
        {
          "output_type": "stream",
          "name": "stdout",
          "text": [
            "Mounted at /content/drive\n"
          ]
        }
      ],
      "source": [
        "from google.colab import drive\n",
        "drive.mount('/content/drive')\n",
        "import pandas as pd\n",
        "import matplotlib.pyplot as plt\n",
        "file_path = '/content/drive/MyDrive/Projeto DIO/Lancamentos_empresarial.xlsx'\n",
        "df = pd.read_excel(file_path)"
      ]
    },
    {
      "cell_type": "code",
      "source": [
        "display(df.head(1))"
      ],
      "metadata": {
        "colab": {
          "base_uri": "https://localhost:8080/",
          "height": 81
        },
        "id": "rsPE4tOPSaCw",
        "outputId": "b03d25ec-fcd2-4f2b-f4fe-ea7cad013453"
      },
      "execution_count": 4,
      "outputs": [
        {
          "output_type": "display_data",
          "data": {
            "text/plain": [
              "      Filial Centro de Custo     Fornecedor    Emissão Vencimento  Valor\n",
              "0  São Paulo        Produção  ABC Indústria 2024-09-01 2024-09-10   1500"
            ],
            "text/html": [
              "\n",
              "  <div id=\"df-c2ffca0b-98dc-4c31-9099-fac4e0144d2d\" class=\"colab-df-container\">\n",
              "    <div>\n",
              "<style scoped>\n",
              "    .dataframe tbody tr th:only-of-type {\n",
              "        vertical-align: middle;\n",
              "    }\n",
              "\n",
              "    .dataframe tbody tr th {\n",
              "        vertical-align: top;\n",
              "    }\n",
              "\n",
              "    .dataframe thead th {\n",
              "        text-align: right;\n",
              "    }\n",
              "</style>\n",
              "<table border=\"1\" class=\"dataframe\">\n",
              "  <thead>\n",
              "    <tr style=\"text-align: right;\">\n",
              "      <th></th>\n",
              "      <th>Filial</th>\n",
              "      <th>Centro de Custo</th>\n",
              "      <th>Fornecedor</th>\n",
              "      <th>Emissão</th>\n",
              "      <th>Vencimento</th>\n",
              "      <th>Valor</th>\n",
              "    </tr>\n",
              "  </thead>\n",
              "  <tbody>\n",
              "    <tr>\n",
              "      <th>0</th>\n",
              "      <td>São Paulo</td>\n",
              "      <td>Produção</td>\n",
              "      <td>ABC Indústria</td>\n",
              "      <td>2024-09-01</td>\n",
              "      <td>2024-09-10</td>\n",
              "      <td>1500</td>\n",
              "    </tr>\n",
              "  </tbody>\n",
              "</table>\n",
              "</div>\n",
              "    <div class=\"colab-df-buttons\">\n",
              "\n",
              "  <div class=\"colab-df-container\">\n",
              "    <button class=\"colab-df-convert\" onclick=\"convertToInteractive('df-c2ffca0b-98dc-4c31-9099-fac4e0144d2d')\"\n",
              "            title=\"Convert this dataframe to an interactive table.\"\n",
              "            style=\"display:none;\">\n",
              "\n",
              "  <svg xmlns=\"http://www.w3.org/2000/svg\" height=\"24px\" viewBox=\"0 -960 960 960\">\n",
              "    <path d=\"M120-120v-720h720v720H120Zm60-500h600v-160H180v160Zm220 220h160v-160H400v160Zm0 220h160v-160H400v160ZM180-400h160v-160H180v160Zm440 0h160v-160H620v160ZM180-180h160v-160H180v160Zm440 0h160v-160H620v160Z\"/>\n",
              "  </svg>\n",
              "    </button>\n",
              "\n",
              "  <style>\n",
              "    .colab-df-container {\n",
              "      display:flex;\n",
              "      gap: 12px;\n",
              "    }\n",
              "\n",
              "    .colab-df-convert {\n",
              "      background-color: #E8F0FE;\n",
              "      border: none;\n",
              "      border-radius: 50%;\n",
              "      cursor: pointer;\n",
              "      display: none;\n",
              "      fill: #1967D2;\n",
              "      height: 32px;\n",
              "      padding: 0 0 0 0;\n",
              "      width: 32px;\n",
              "    }\n",
              "\n",
              "    .colab-df-convert:hover {\n",
              "      background-color: #E2EBFA;\n",
              "      box-shadow: 0px 1px 2px rgba(60, 64, 67, 0.3), 0px 1px 3px 1px rgba(60, 64, 67, 0.15);\n",
              "      fill: #174EA6;\n",
              "    }\n",
              "\n",
              "    .colab-df-buttons div {\n",
              "      margin-bottom: 4px;\n",
              "    }\n",
              "\n",
              "    [theme=dark] .colab-df-convert {\n",
              "      background-color: #3B4455;\n",
              "      fill: #D2E3FC;\n",
              "    }\n",
              "\n",
              "    [theme=dark] .colab-df-convert:hover {\n",
              "      background-color: #434B5C;\n",
              "      box-shadow: 0px 1px 3px 1px rgba(0, 0, 0, 0.15);\n",
              "      filter: drop-shadow(0px 1px 2px rgba(0, 0, 0, 0.3));\n",
              "      fill: #FFFFFF;\n",
              "    }\n",
              "  </style>\n",
              "\n",
              "    <script>\n",
              "      const buttonEl =\n",
              "        document.querySelector('#df-c2ffca0b-98dc-4c31-9099-fac4e0144d2d button.colab-df-convert');\n",
              "      buttonEl.style.display =\n",
              "        google.colab.kernel.accessAllowed ? 'block' : 'none';\n",
              "\n",
              "      async function convertToInteractive(key) {\n",
              "        const element = document.querySelector('#df-c2ffca0b-98dc-4c31-9099-fac4e0144d2d');\n",
              "        const dataTable =\n",
              "          await google.colab.kernel.invokeFunction('convertToInteractive',\n",
              "                                                    [key], {});\n",
              "        if (!dataTable) return;\n",
              "\n",
              "        const docLinkHtml = 'Like what you see? Visit the ' +\n",
              "          '<a target=\"_blank\" href=https://colab.research.google.com/notebooks/data_table.ipynb>data table notebook</a>'\n",
              "          + ' to learn more about interactive tables.';\n",
              "        element.innerHTML = '';\n",
              "        dataTable['output_type'] = 'display_data';\n",
              "        await google.colab.output.renderOutput(dataTable, element);\n",
              "        const docLink = document.createElement('div');\n",
              "        docLink.innerHTML = docLinkHtml;\n",
              "        element.appendChild(docLink);\n",
              "      }\n",
              "    </script>\n",
              "  </div>\n",
              "\n",
              "\n",
              "    </div>\n",
              "  </div>\n"
            ],
            "application/vnd.google.colaboratory.intrinsic+json": {
              "type": "dataframe",
              "summary": "{\n  \"name\": \"display(df\",\n  \"rows\": 1,\n  \"fields\": [\n    {\n      \"column\": \"Filial\",\n      \"properties\": {\n        \"dtype\": \"string\",\n        \"num_unique_values\": 1,\n        \"samples\": [\n          \"S\\u00e3o Paulo\"\n        ],\n        \"semantic_type\": \"\",\n        \"description\": \"\"\n      }\n    },\n    {\n      \"column\": \"Centro de Custo\",\n      \"properties\": {\n        \"dtype\": \"string\",\n        \"num_unique_values\": 1,\n        \"samples\": [\n          \"Produ\\u00e7\\u00e3o\"\n        ],\n        \"semantic_type\": \"\",\n        \"description\": \"\"\n      }\n    },\n    {\n      \"column\": \"Fornecedor\",\n      \"properties\": {\n        \"dtype\": \"string\",\n        \"num_unique_values\": 1,\n        \"samples\": [\n          \"ABC Ind\\u00fastria\"\n        ],\n        \"semantic_type\": \"\",\n        \"description\": \"\"\n      }\n    },\n    {\n      \"column\": \"Emiss\\u00e3o\",\n      \"properties\": {\n        \"dtype\": \"date\",\n        \"min\": \"2024-09-01 00:00:00\",\n        \"max\": \"2024-09-01 00:00:00\",\n        \"num_unique_values\": 1,\n        \"samples\": [\n          \"2024-09-01 00:00:00\"\n        ],\n        \"semantic_type\": \"\",\n        \"description\": \"\"\n      }\n    },\n    {\n      \"column\": \"Vencimento\",\n      \"properties\": {\n        \"dtype\": \"date\",\n        \"min\": \"2024-09-10 00:00:00\",\n        \"max\": \"2024-09-10 00:00:00\",\n        \"num_unique_values\": 1,\n        \"samples\": [\n          \"2024-09-10 00:00:00\"\n        ],\n        \"semantic_type\": \"\",\n        \"description\": \"\"\n      }\n    },\n    {\n      \"column\": \"Valor\",\n      \"properties\": {\n        \"dtype\": \"number\",\n        \"std\": null,\n        \"min\": 1500,\n        \"max\": 1500,\n        \"num_unique_values\": 1,\n        \"samples\": [\n          1500\n        ],\n        \"semantic_type\": \"\",\n        \"description\": \"\"\n      }\n    }\n  ]\n}"
            }
          },
          "metadata": {}
        }
      ]
    },
    {
      "cell_type": "code",
      "source": [
        "# Verificando o tipo das colunas\n",
        "df.dtypes"
      ],
      "metadata": {
        "colab": {
          "base_uri": "https://localhost:8080/"
        },
        "id": "Qf1dDQKoScKb",
        "outputId": "bd347dea-d846-4ff2-9c94-dbe5d44959ad"
      },
      "execution_count": 22,
      "outputs": [
        {
          "output_type": "execute_result",
          "data": {
            "text/plain": [
              "Filial                          object\n",
              "Centro de Custo                 object\n",
              "Fornecedor                      object\n",
              "Emissão                 datetime64[ns]\n",
              "Vencimento              datetime64[ns]\n",
              "Valor                          float64\n",
              "Contabilidade                   object\n",
              "Prazo do Vencimento    timedelta64[ns]\n",
              "dtype: object"
            ]
          },
          "metadata": {},
          "execution_count": 22
        }
      ]
    },
    {
      "cell_type": "code",
      "source": [
        "# Alterando o tipo da coluna 'Valor' para float\n",
        "df['Valor'] = df['Valor'].astype(\"float\")"
      ],
      "metadata": {
        "id": "ncHvOBsKShVx"
      },
      "execution_count": 21,
      "outputs": []
    },
    {
      "cell_type": "code",
      "source": [
        "df['Fornecedor'].unique()"
      ],
      "metadata": {
        "colab": {
          "base_uri": "https://localhost:8080/"
        },
        "id": "Tg_u12lNSi8_",
        "outputId": "a215d198-3764-43af-d87d-7a8a1d81adfa"
      },
      "execution_count": 23,
      "outputs": [
        {
          "output_type": "execute_result",
          "data": {
            "text/plain": [
              "array(['ABC Indústria', 'XYZ Serviços', 'DEF Manutenção',\n",
              "       'GHI Tecnologia', 'JKL Consultoria', 'GHE Tecnologia',\n",
              "       'VWX Projetos', 'YZA Advocacia'], dtype=object)"
            ]
          },
          "metadata": {},
          "execution_count": 23
        }
      ]
    },
    {
      "cell_type": "code",
      "source": [
        "# Criando uma coluna com código predefinido para os Fornecedores\n",
        "mapa_fornecedor = {\n",
        "    'ABC Indústria' : \"00036 - Serviço Industrial\",\n",
        "    'XYZ Serviços' : \"00058 - Mão de Obra Serviços\",\n",
        "    'DEF Manutenção' : \"00298 - Mão de Obra Manutenção\",\n",
        "    'GHI Tecnologia' : \"01152 - Serviços de Tecnologia\",\n",
        "    'GHE Tecnologia' : \"01152 - Serviços de Tecnologia\",\n",
        "    'VWX Projetos' : \"00983 - Engenharia\",\n",
        "    'YZA Advocacia' : \"00985 - Serviços de Advocacia\",\n",
        "    'JKL Consultoria' : \"00382 - Serviços de Consultoria\"\n",
        "}\n",
        "\n",
        "# Alterando o tipo da coluna do Fornecedor e criando uma coluna para colocar os codigos contabeis\n",
        "\n",
        "df['Fornecedor'] = df['Fornecedor'].astype(str)\n",
        "df['Contabilidade'] = df['Fornecedor'].map(mapa_fornecedor)\n",
        "display(df.head())"
      ],
      "metadata": {
        "colab": {
          "base_uri": "https://localhost:8080/",
          "height": 206
        },
        "id": "ID3zdQVwSkHj",
        "outputId": "be0f8d1a-18d4-4fca-a244-3c4d1734baa4"
      },
      "execution_count": 9,
      "outputs": [
        {
          "output_type": "display_data",
          "data": {
            "text/plain": [
              "           Filial Centro de Custo       Fornecedor    Emissão Vencimento  \\\n",
              "0       São Paulo        Produção    ABC Indústria 2024-09-01 2024-09-10   \n",
              "1  Rio de Janeiro       Logística     XYZ Serviços 2024-09-05 2024-09-15   \n",
              "2  Belo Horizonte  Administrativo   DEF Manutenção 2024-09-10 2024-09-20   \n",
              "3        Curitiba              TI   GHI Tecnologia 2024-09-15 2024-09-25   \n",
              "4    Porto Alegre          Vendas  JKL Consultoria 2024-09-20 2024-09-30   \n",
              "\n",
              "    Valor                    Contabilidade  \n",
              "0  1500.0       00036 - Serviço Industrial  \n",
              "1  2300.0     00058 - Mão de Obra Serviços  \n",
              "2   900.0   00298 - Mão de Obra Manutenção  \n",
              "3  1800.0   01152 - Serviços de Tecnologia  \n",
              "4  1200.0  00382 - Serviços de Consultoria  "
            ],
            "text/html": [
              "\n",
              "  <div id=\"df-810a9314-2f8b-4a56-a2b9-ae3c531fdc9d\" class=\"colab-df-container\">\n",
              "    <div>\n",
              "<style scoped>\n",
              "    .dataframe tbody tr th:only-of-type {\n",
              "        vertical-align: middle;\n",
              "    }\n",
              "\n",
              "    .dataframe tbody tr th {\n",
              "        vertical-align: top;\n",
              "    }\n",
              "\n",
              "    .dataframe thead th {\n",
              "        text-align: right;\n",
              "    }\n",
              "</style>\n",
              "<table border=\"1\" class=\"dataframe\">\n",
              "  <thead>\n",
              "    <tr style=\"text-align: right;\">\n",
              "      <th></th>\n",
              "      <th>Filial</th>\n",
              "      <th>Centro de Custo</th>\n",
              "      <th>Fornecedor</th>\n",
              "      <th>Emissão</th>\n",
              "      <th>Vencimento</th>\n",
              "      <th>Valor</th>\n",
              "      <th>Contabilidade</th>\n",
              "    </tr>\n",
              "  </thead>\n",
              "  <tbody>\n",
              "    <tr>\n",
              "      <th>0</th>\n",
              "      <td>São Paulo</td>\n",
              "      <td>Produção</td>\n",
              "      <td>ABC Indústria</td>\n",
              "      <td>2024-09-01</td>\n",
              "      <td>2024-09-10</td>\n",
              "      <td>1500.0</td>\n",
              "      <td>00036 - Serviço Industrial</td>\n",
              "    </tr>\n",
              "    <tr>\n",
              "      <th>1</th>\n",
              "      <td>Rio de Janeiro</td>\n",
              "      <td>Logística</td>\n",
              "      <td>XYZ Serviços</td>\n",
              "      <td>2024-09-05</td>\n",
              "      <td>2024-09-15</td>\n",
              "      <td>2300.0</td>\n",
              "      <td>00058 - Mão de Obra Serviços</td>\n",
              "    </tr>\n",
              "    <tr>\n",
              "      <th>2</th>\n",
              "      <td>Belo Horizonte</td>\n",
              "      <td>Administrativo</td>\n",
              "      <td>DEF Manutenção</td>\n",
              "      <td>2024-09-10</td>\n",
              "      <td>2024-09-20</td>\n",
              "      <td>900.0</td>\n",
              "      <td>00298 - Mão de Obra Manutenção</td>\n",
              "    </tr>\n",
              "    <tr>\n",
              "      <th>3</th>\n",
              "      <td>Curitiba</td>\n",
              "      <td>TI</td>\n",
              "      <td>GHI Tecnologia</td>\n",
              "      <td>2024-09-15</td>\n",
              "      <td>2024-09-25</td>\n",
              "      <td>1800.0</td>\n",
              "      <td>01152 - Serviços de Tecnologia</td>\n",
              "    </tr>\n",
              "    <tr>\n",
              "      <th>4</th>\n",
              "      <td>Porto Alegre</td>\n",
              "      <td>Vendas</td>\n",
              "      <td>JKL Consultoria</td>\n",
              "      <td>2024-09-20</td>\n",
              "      <td>2024-09-30</td>\n",
              "      <td>1200.0</td>\n",
              "      <td>00382 - Serviços de Consultoria</td>\n",
              "    </tr>\n",
              "  </tbody>\n",
              "</table>\n",
              "</div>\n",
              "    <div class=\"colab-df-buttons\">\n",
              "\n",
              "  <div class=\"colab-df-container\">\n",
              "    <button class=\"colab-df-convert\" onclick=\"convertToInteractive('df-810a9314-2f8b-4a56-a2b9-ae3c531fdc9d')\"\n",
              "            title=\"Convert this dataframe to an interactive table.\"\n",
              "            style=\"display:none;\">\n",
              "\n",
              "  <svg xmlns=\"http://www.w3.org/2000/svg\" height=\"24px\" viewBox=\"0 -960 960 960\">\n",
              "    <path d=\"M120-120v-720h720v720H120Zm60-500h600v-160H180v160Zm220 220h160v-160H400v160Zm0 220h160v-160H400v160ZM180-400h160v-160H180v160Zm440 0h160v-160H620v160ZM180-180h160v-160H180v160Zm440 0h160v-160H620v160Z\"/>\n",
              "  </svg>\n",
              "    </button>\n",
              "\n",
              "  <style>\n",
              "    .colab-df-container {\n",
              "      display:flex;\n",
              "      gap: 12px;\n",
              "    }\n",
              "\n",
              "    .colab-df-convert {\n",
              "      background-color: #E8F0FE;\n",
              "      border: none;\n",
              "      border-radius: 50%;\n",
              "      cursor: pointer;\n",
              "      display: none;\n",
              "      fill: #1967D2;\n",
              "      height: 32px;\n",
              "      padding: 0 0 0 0;\n",
              "      width: 32px;\n",
              "    }\n",
              "\n",
              "    .colab-df-convert:hover {\n",
              "      background-color: #E2EBFA;\n",
              "      box-shadow: 0px 1px 2px rgba(60, 64, 67, 0.3), 0px 1px 3px 1px rgba(60, 64, 67, 0.15);\n",
              "      fill: #174EA6;\n",
              "    }\n",
              "\n",
              "    .colab-df-buttons div {\n",
              "      margin-bottom: 4px;\n",
              "    }\n",
              "\n",
              "    [theme=dark] .colab-df-convert {\n",
              "      background-color: #3B4455;\n",
              "      fill: #D2E3FC;\n",
              "    }\n",
              "\n",
              "    [theme=dark] .colab-df-convert:hover {\n",
              "      background-color: #434B5C;\n",
              "      box-shadow: 0px 1px 3px 1px rgba(0, 0, 0, 0.15);\n",
              "      filter: drop-shadow(0px 1px 2px rgba(0, 0, 0, 0.3));\n",
              "      fill: #FFFFFF;\n",
              "    }\n",
              "  </style>\n",
              "\n",
              "    <script>\n",
              "      const buttonEl =\n",
              "        document.querySelector('#df-810a9314-2f8b-4a56-a2b9-ae3c531fdc9d button.colab-df-convert');\n",
              "      buttonEl.style.display =\n",
              "        google.colab.kernel.accessAllowed ? 'block' : 'none';\n",
              "\n",
              "      async function convertToInteractive(key) {\n",
              "        const element = document.querySelector('#df-810a9314-2f8b-4a56-a2b9-ae3c531fdc9d');\n",
              "        const dataTable =\n",
              "          await google.colab.kernel.invokeFunction('convertToInteractive',\n",
              "                                                    [key], {});\n",
              "        if (!dataTable) return;\n",
              "\n",
              "        const docLinkHtml = 'Like what you see? Visit the ' +\n",
              "          '<a target=\"_blank\" href=https://colab.research.google.com/notebooks/data_table.ipynb>data table notebook</a>'\n",
              "          + ' to learn more about interactive tables.';\n",
              "        element.innerHTML = '';\n",
              "        dataTable['output_type'] = 'display_data';\n",
              "        await google.colab.output.renderOutput(dataTable, element);\n",
              "        const docLink = document.createElement('div');\n",
              "        docLink.innerHTML = docLinkHtml;\n",
              "        element.appendChild(docLink);\n",
              "      }\n",
              "    </script>\n",
              "  </div>\n",
              "\n",
              "\n",
              "<div id=\"df-c766eff0-bf5f-4962-9f65-92d3656f1d8c\">\n",
              "  <button class=\"colab-df-quickchart\" onclick=\"quickchart('df-c766eff0-bf5f-4962-9f65-92d3656f1d8c')\"\n",
              "            title=\"Suggest charts\"\n",
              "            style=\"display:none;\">\n",
              "\n",
              "<svg xmlns=\"http://www.w3.org/2000/svg\" height=\"24px\"viewBox=\"0 0 24 24\"\n",
              "     width=\"24px\">\n",
              "    <g>\n",
              "        <path d=\"M19 3H5c-1.1 0-2 .9-2 2v14c0 1.1.9 2 2 2h14c1.1 0 2-.9 2-2V5c0-1.1-.9-2-2-2zM9 17H7v-7h2v7zm4 0h-2V7h2v10zm4 0h-2v-4h2v4z\"/>\n",
              "    </g>\n",
              "</svg>\n",
              "  </button>\n",
              "\n",
              "<style>\n",
              "  .colab-df-quickchart {\n",
              "      --bg-color: #E8F0FE;\n",
              "      --fill-color: #1967D2;\n",
              "      --hover-bg-color: #E2EBFA;\n",
              "      --hover-fill-color: #174EA6;\n",
              "      --disabled-fill-color: #AAA;\n",
              "      --disabled-bg-color: #DDD;\n",
              "  }\n",
              "\n",
              "  [theme=dark] .colab-df-quickchart {\n",
              "      --bg-color: #3B4455;\n",
              "      --fill-color: #D2E3FC;\n",
              "      --hover-bg-color: #434B5C;\n",
              "      --hover-fill-color: #FFFFFF;\n",
              "      --disabled-bg-color: #3B4455;\n",
              "      --disabled-fill-color: #666;\n",
              "  }\n",
              "\n",
              "  .colab-df-quickchart {\n",
              "    background-color: var(--bg-color);\n",
              "    border: none;\n",
              "    border-radius: 50%;\n",
              "    cursor: pointer;\n",
              "    display: none;\n",
              "    fill: var(--fill-color);\n",
              "    height: 32px;\n",
              "    padding: 0;\n",
              "    width: 32px;\n",
              "  }\n",
              "\n",
              "  .colab-df-quickchart:hover {\n",
              "    background-color: var(--hover-bg-color);\n",
              "    box-shadow: 0 1px 2px rgba(60, 64, 67, 0.3), 0 1px 3px 1px rgba(60, 64, 67, 0.15);\n",
              "    fill: var(--button-hover-fill-color);\n",
              "  }\n",
              "\n",
              "  .colab-df-quickchart-complete:disabled,\n",
              "  .colab-df-quickchart-complete:disabled:hover {\n",
              "    background-color: var(--disabled-bg-color);\n",
              "    fill: var(--disabled-fill-color);\n",
              "    box-shadow: none;\n",
              "  }\n",
              "\n",
              "  .colab-df-spinner {\n",
              "    border: 2px solid var(--fill-color);\n",
              "    border-color: transparent;\n",
              "    border-bottom-color: var(--fill-color);\n",
              "    animation:\n",
              "      spin 1s steps(1) infinite;\n",
              "  }\n",
              "\n",
              "  @keyframes spin {\n",
              "    0% {\n",
              "      border-color: transparent;\n",
              "      border-bottom-color: var(--fill-color);\n",
              "      border-left-color: var(--fill-color);\n",
              "    }\n",
              "    20% {\n",
              "      border-color: transparent;\n",
              "      border-left-color: var(--fill-color);\n",
              "      border-top-color: var(--fill-color);\n",
              "    }\n",
              "    30% {\n",
              "      border-color: transparent;\n",
              "      border-left-color: var(--fill-color);\n",
              "      border-top-color: var(--fill-color);\n",
              "      border-right-color: var(--fill-color);\n",
              "    }\n",
              "    40% {\n",
              "      border-color: transparent;\n",
              "      border-right-color: var(--fill-color);\n",
              "      border-top-color: var(--fill-color);\n",
              "    }\n",
              "    60% {\n",
              "      border-color: transparent;\n",
              "      border-right-color: var(--fill-color);\n",
              "    }\n",
              "    80% {\n",
              "      border-color: transparent;\n",
              "      border-right-color: var(--fill-color);\n",
              "      border-bottom-color: var(--fill-color);\n",
              "    }\n",
              "    90% {\n",
              "      border-color: transparent;\n",
              "      border-bottom-color: var(--fill-color);\n",
              "    }\n",
              "  }\n",
              "</style>\n",
              "\n",
              "  <script>\n",
              "    async function quickchart(key) {\n",
              "      const quickchartButtonEl =\n",
              "        document.querySelector('#' + key + ' button');\n",
              "      quickchartButtonEl.disabled = true;  // To prevent multiple clicks.\n",
              "      quickchartButtonEl.classList.add('colab-df-spinner');\n",
              "      try {\n",
              "        const charts = await google.colab.kernel.invokeFunction(\n",
              "            'suggestCharts', [key], {});\n",
              "      } catch (error) {\n",
              "        console.error('Error during call to suggestCharts:', error);\n",
              "      }\n",
              "      quickchartButtonEl.classList.remove('colab-df-spinner');\n",
              "      quickchartButtonEl.classList.add('colab-df-quickchart-complete');\n",
              "    }\n",
              "    (() => {\n",
              "      let quickchartButtonEl =\n",
              "        document.querySelector('#df-c766eff0-bf5f-4962-9f65-92d3656f1d8c button');\n",
              "      quickchartButtonEl.style.display =\n",
              "        google.colab.kernel.accessAllowed ? 'block' : 'none';\n",
              "    })();\n",
              "  </script>\n",
              "</div>\n",
              "\n",
              "    </div>\n",
              "  </div>\n"
            ],
            "application/vnd.google.colaboratory.intrinsic+json": {
              "type": "dataframe",
              "summary": "{\n  \"name\": \"display(df\",\n  \"rows\": 5,\n  \"fields\": [\n    {\n      \"column\": \"Filial\",\n      \"properties\": {\n        \"dtype\": \"string\",\n        \"num_unique_values\": 5,\n        \"samples\": [\n          \"Rio de Janeiro\",\n          \"Porto Alegre\",\n          \"Belo Horizonte\"\n        ],\n        \"semantic_type\": \"\",\n        \"description\": \"\"\n      }\n    },\n    {\n      \"column\": \"Centro de Custo\",\n      \"properties\": {\n        \"dtype\": \"string\",\n        \"num_unique_values\": 5,\n        \"samples\": [\n          \"Log\\u00edstica\",\n          \"Vendas\",\n          \"Administrativo\"\n        ],\n        \"semantic_type\": \"\",\n        \"description\": \"\"\n      }\n    },\n    {\n      \"column\": \"Fornecedor\",\n      \"properties\": {\n        \"dtype\": \"string\",\n        \"num_unique_values\": 5,\n        \"samples\": [\n          \"XYZ Servi\\u00e7os\",\n          \"JKL Consultoria\",\n          \"DEF Manuten\\u00e7\\u00e3o\"\n        ],\n        \"semantic_type\": \"\",\n        \"description\": \"\"\n      }\n    },\n    {\n      \"column\": \"Emiss\\u00e3o\",\n      \"properties\": {\n        \"dtype\": \"date\",\n        \"min\": \"2024-09-01 00:00:00\",\n        \"max\": \"2024-09-20 00:00:00\",\n        \"num_unique_values\": 5,\n        \"samples\": [\n          \"2024-09-05 00:00:00\",\n          \"2024-09-20 00:00:00\",\n          \"2024-09-10 00:00:00\"\n        ],\n        \"semantic_type\": \"\",\n        \"description\": \"\"\n      }\n    },\n    {\n      \"column\": \"Vencimento\",\n      \"properties\": {\n        \"dtype\": \"date\",\n        \"min\": \"2024-09-10 00:00:00\",\n        \"max\": \"2024-09-30 00:00:00\",\n        \"num_unique_values\": 5,\n        \"samples\": [\n          \"2024-09-15 00:00:00\",\n          \"2024-09-30 00:00:00\",\n          \"2024-09-20 00:00:00\"\n        ],\n        \"semantic_type\": \"\",\n        \"description\": \"\"\n      }\n    },\n    {\n      \"column\": \"Valor\",\n      \"properties\": {\n        \"dtype\": \"number\",\n        \"std\": 541.2947441089743,\n        \"min\": 900.0,\n        \"max\": 2300.0,\n        \"num_unique_values\": 5,\n        \"samples\": [\n          2300.0,\n          1200.0,\n          900.0\n        ],\n        \"semantic_type\": \"\",\n        \"description\": \"\"\n      }\n    },\n    {\n      \"column\": \"Contabilidade\",\n      \"properties\": {\n        \"dtype\": \"string\",\n        \"num_unique_values\": 5,\n        \"samples\": [\n          \"00058 - M\\u00e3o de Obra Servi\\u00e7os\",\n          \"00382 - Servi\\u00e7os de Consultoria\",\n          \"00298 - M\\u00e3o de Obra Manuten\\u00e7\\u00e3o\"\n        ],\n        \"semantic_type\": \"\",\n        \"description\": \"\"\n      }\n    }\n  ]\n}"
            }
          },
          "metadata": {}
        }
      ]
    },
    {
      "cell_type": "code",
      "source": [
        "# Verificando se existe alguma coluna com dados vazios\n",
        "df_vazios = df.isnull().sum()\n",
        "print(df_vazios)"
      ],
      "metadata": {
        "colab": {
          "base_uri": "https://localhost:8080/"
        },
        "id": "i3VvFTIjSmwv",
        "outputId": "27fb885f-5e11-4f8f-9640-046fd998c8d7"
      },
      "execution_count": 24,
      "outputs": [
        {
          "output_type": "stream",
          "name": "stdout",
          "text": [
            "Filial                 0\n",
            "Centro de Custo        0\n",
            "Fornecedor             0\n",
            "Emissão                0\n",
            "Vencimento             0\n",
            "Valor                  0\n",
            "Contabilidade          0\n",
            "Prazo do Vencimento    0\n",
            "dtype: int64\n"
          ]
        }
      ]
    },
    {
      "cell_type": "code",
      "source": [
        "# Verificando o total de lançamenos por setores através de graficos\n",
        "plt.style.use(\"dark_background\")\n",
        "df['Centro de Custo'].value_counts().plot.bar(color=\"darkgreen\");"
      ],
      "metadata": {
        "colab": {
          "base_uri": "https://localhost:8080/",
          "height": 537
        },
        "id": "5Zg_4NdeSoS8",
        "outputId": "7b2125b4-9c70-48e2-9d2d-39f827bfeb14"
      },
      "execution_count": 11,
      "outputs": [
        {
          "output_type": "display_data",
          "data": {
            "text/plain": [
              "<Figure size 640x480 with 1 Axes>"
            ],
            "image/png": "[encoded data removed]"
          },
          "metadata": {}
        }
      ]
    },
    {
      "cell_type": "code",
      "source": [
        "df['Centro de Custo'].value_counts().plot.barh(color=\"darkgreen\")\n",
        "plt.title(\"Qntde de Lançamento por Setores\", fontsize = 15)\n",
        "plt.ylabel(\"setor\")\n",
        "plt.xlabel(\"Quantidade de lançamentos\");"
      ],
      "metadata": {
        "colab": {
          "base_uri": "https://localhost:8080/",
          "height": 474
        },
        "id": "p7nRXot9Sq3Z",
        "outputId": "363ac03f-da6a-46bb-ae7f-0d7b4ea81fdb"
      },
      "execution_count": 12,
      "outputs": [
        {
          "output_type": "display_data",
          "data": {
            "text/plain": [
              "<Figure size 640x480 with 1 Axes>"
            ],
            "image/png": "[encoded data removed]"
          },
          "metadata": {}
        }
      ]
    },
    {
      "cell_type": "code",
      "source": [
        "# Verificando a quantidade de lançamentos por setores\n",
        "print(df['Centro de Custo'].value_counts())"
      ],
      "metadata": {
        "colab": {
          "base_uri": "https://localhost:8080/"
        },
        "id": "sUOyKxmUSsjb",
        "outputId": "0aa180e2-d9e8-4148-a099-e645ec53f614"
      },
      "execution_count": 13,
      "outputs": [
        {
          "output_type": "stream",
          "name": "stdout",
          "text": [
            "Centro de Custo\n",
            "TI                14\n",
            "Produção           8\n",
            "Logística          8\n",
            "Administrativo     7\n",
            "Vendas             7\n",
            "Engenharia         7\n",
            "Jurídico           7\n",
            "Name: count, dtype: int64\n"
          ]
        }
      ]
    },
    {
      "cell_type": "code",
      "source": [
        "df['Valor'].sum()"
      ],
      "metadata": {
        "colab": {
          "base_uri": "https://localhost:8080/"
        },
        "id": "I3XIBNDoSt7X",
        "outputId": "105c6a59-5cf2-4b4b-fe4c-e671cc1f19d6"
      },
      "execution_count": 29,
      "outputs": [
        {
          "output_type": "execute_result",
          "data": {
            "text/plain": [
              "160450.0"
            ]
          },
          "metadata": {},
          "execution_count": 29
        }
      ]
    },
    {
      "cell_type": "code",
      "source": [
        "# Verificando o valor total dos lançamentos por setores\n",
        "df.groupby(['Centro de Custo'])['Valor'].sum().sort_values(ascending=False).plot(marker = \"v\")\n",
        "plt.title(\"Valor Total Lançado por setor\")\n",
        "plt.xticks(fontsize = 10, rotation = 90)\n",
        "plt.ylabel(\"Valor\")\n",
        "plt.xlabel(\"Setor\");"
      ],
      "metadata": {
        "colab": {
          "base_uri": "https://localhost:8080/",
          "height": 559
        },
        "id": "4jdv34ZLSv5X",
        "outputId": "9edd8242-93f6-4d92-dee5-f6e3485126b9"
      },
      "execution_count": 16,
      "outputs": [
        {
          "output_type": "display_data",
          "data": {
            "text/plain": [
              "<Figure size 640x480 with 1 Axes>"
            ],
            "image/png": "[encoded data removed]"
          },
          "metadata": {}
        }
      ]
    },
    {
      "cell_type": "code",
      "source": [
        "df.groupby(['Centro de Custo'])['Valor'].sum().sort_values(ascending=False).plot.pie()\n",
        "plt.title(\"Índice por setor\")\n",
        "plt.ylabel(\" \");"
      ],
      "metadata": {
        "colab": {
          "base_uri": "https://localhost:8080/",
          "height": 431
        },
        "id": "MqiV8EYkSyOL",
        "outputId": "d7337eed-c5e0-4958-9412-4d7f920e6cfd"
      },
      "execution_count": 17,
      "outputs": [
        {
          "output_type": "display_data",
          "data": {
            "text/plain": [
              "<Figure size 640x480 with 1 Axes>"
            ],
            "image/png": "[encoded data removed]"
          },
          "metadata": {}
        }
      ]
    },
    {
      "cell_type": "code",
      "source": [
        "# Criando uma coluna para calcular o tempo que falta para o Vencimento da Nota\n",
        "df['Prazo do Vencimento'] = df['Vencimento'] - df['Emissão']\n",
        "display(df['Prazo do Vencimento'].head(10))"
      ],
      "metadata": {
        "colab": {
          "base_uri": "https://localhost:8080/",
          "height": 217
        },
        "id": "c8DS9XdASzxZ",
        "outputId": "4a262bcc-f7d8-4356-d7c5-4921b50a7d9d"
      },
      "execution_count": 18,
      "outputs": [
        {
          "output_type": "display_data",
          "data": {
            "text/plain": [
              "0    9 days\n",
              "1   10 days\n",
              "2   10 days\n",
              "3   10 days\n",
              "4   10 days\n",
              "5   10 days\n",
              "6   10 days\n",
              "7   10 days\n",
              "8   29 days\n",
              "9   30 days\n",
              "Name: Prazo do Vencimento, dtype: timedelta64[ns]"
            ]
          },
          "metadata": {}
        }
      ]
    }
  ]
}